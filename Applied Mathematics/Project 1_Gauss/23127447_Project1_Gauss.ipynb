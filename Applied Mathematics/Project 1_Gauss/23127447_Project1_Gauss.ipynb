{
 "cells": [
  {
   "cell_type": "markdown",
   "id": "bcab4daf",
   "metadata": {},
   "source": [
    "# THÔNG TIN SINH VIÊN\n",
    "Mã số sinh viên: 23127447  \n",
    "Họ và tên: Nguyễn Thanh Owen  \n",
    "Lớp: 23CLC06  \n",
    "Email: ntowen23@clc.fitus.edu.vn  "
   ]
  },
  {
   "cell_type": "markdown",
   "id": "72ea25b9",
   "metadata": {},
   "source": [
    "# Thư viện sử dụng\n",
    "'sympy' : dùng để lấy các kí hiệu Xi khi hệ phương trình có vô số nghiệm và in ma trận mở rộng và nghiệm"
   ]
  },
  {
   "cell_type": "markdown",
   "id": "0aaeb0ae",
   "metadata": {},
   "source": [
    "# Hàm Gauss_elimination(A)\n",
    "Input: A, là ma trận mở rộng của hệ phương trình Ax = b  \n",
    "Output: ma trận có dạng bậc thang có được từ ma trận A"
   ]
  },
  {
   "cell_type": "markdown",
   "id": "c15056d4",
   "metadata": {},
   "source": [
    "# Mô tả thuật toán hàm Gauss_elimination(A)\n",
    "Bước 1. Xác định cột trái nhất không chứa toàn số 0.  \n",
    "  \n",
    "Bước 2. Nếu phần tử ở dòng hiện tại và cột vừa tìm được bằng 0, thì đổi chỗ dòng hiện tại với dòng đầu tiên bên dưới mà có phần tử khác 0 trong cột đó để đưa phần tử khác 0 lên vị trí dòng hiện tại.\n",
    "  \n",
    "Bước 3. Với số hạng đầu cột nhận được từ Bước 2 là a≠0, nhân dòng chứa nó với 1/a để có số dẫn đầu 1 (leading 1).\n",
    "\n",
    "Bước 4. Cộng một bội số thích hợp của dòng đầu cho từng dòng dưới để biến các số hạng bên dưới số dẫn đầu thành 0.\n",
    "\n",
    "Bước 5. Che dòng đầu đã làm xong. Lặp lại các bước cho đến khi được ma trận bậc thang."
   ]
  },
  {
   "cell_type": "markdown",
   "id": "4948aada",
   "metadata": {},
   "source": [
    "# Cài đặt code"
   ]
  },
  {
   "cell_type": "code",
   "execution_count": 25,
   "id": "fdd25883",
   "metadata": {},
   "outputs": [],
   "source": [
    "\n",
    "import sympy as sp\n",
    "import time\n",
    "def swap_rows(A, row1, row2):\n",
    "    A[row1], A[row2] = A[row2], A[row1]\n",
    "\n",
    "def Gauss_elimination(A):\n",
    "    numRow = len(A)\n",
    "    numCol = len(A[0])\n",
    "\n",
    "    leftMost = 0 #cot trai nhat khong chua toan so 0\n",
    "    for row in range(numRow):\n",
    "        \n",
    "        #B1: Xac dinh cot trai nhat khong chua toan so 0\n",
    "        while leftMost < numCol:\n",
    "            check = True\n",
    "            for i in range(row, numRow):\n",
    "                if A[i][leftMost] != 0:\n",
    "                    check = False\n",
    "                    break\n",
    "            if check == True:\n",
    "                leftMost += 1\n",
    "            else:\n",
    "                break\n",
    "        \n",
    "        if leftMost >= numCol:\n",
    "            return A\n",
    "\n",
    "        #B2: kiem tra phan tu dau tien cua dong hien tai co = 0 hay khong\n",
    "            #neu co thi swap voi 1 dong khac\n",
    "        if A[row][leftMost] == 0:\n",
    "            for i in range(row + 1, numRow):\n",
    "                if A[i][leftMost] != 0:\n",
    "                    swap_rows(A, row, i)\n",
    "                    break\n",
    "                    \n",
    "        #B3: Nhan dong \"row\" nghich dao voi 1/A[row][leftMost] de chuyen phan tu dau tien thanh 1\n",
    "        pivot = A[row][leftMost]\n",
    "        for j in range(leftMost, numCol):\n",
    "            A[row][j] /= pivot\n",
    "        \n",
    "        #B4: Cong boi so thich hop cua dong dau cho tung dong ben duoi de bien cac so hang ben duoi so dan dau thanh 0\n",
    "        for i in range(row + 1, numRow):\n",
    "            factor = A[i][leftMost] / A[row][leftMost]\n",
    "            for j in range(leftMost, numCol):\n",
    "                A[i][j] = A[i][j] - A[row][j] * factor\n",
    "\n",
    "        #B5: tang chi so leftMost va lap lai qua trinh\n",
    "        leftMost += 1\n",
    "    return A\n"
   ]
  },
  {
   "cell_type": "markdown",
   "id": "12b3fabe",
   "metadata": {},
   "source": [
    "# Hàm back_substitution\n",
    "Input: A, là ma trận có dạng bậc thang thu được từ ma trận mở rộng của hệ phương trình Ax = b.   \n",
    "Output: nghiệm của hệ phương trình (trường hợp nghiệm duy nhất/ vô số nghiệm) hoặc thông báo hệ phương trình vô nghiệm."
   ]
  },
  {
   "cell_type": "markdown",
   "id": "8f1eb73a",
   "metadata": {},
   "source": [
    "# Mô tả thuật toán hàm back_substitution()\n",
    "Bước 1. Khởi tạo danh sách các biến tự do x1, x2, ..., xn bằng 'sympy'.  \n",
    "  \n",
    "Bước 2. Tìm dòng dưới cùng khác 0.\n",
    "  \n",
    "Bước 3. Kiểm tra vô nghiệm: Nếu dòng cuối có số hạng tự do ([0, 0, ..., 0 | b] với b ≠ 0), thì hệ vô nghiệm.\n",
    "\n",
    "Bước 4. Kiểm tra vô số nghiệm hoặc nghiệm duy nhất:  \n",
    "- Nếu số dòng khác 0 < số ẩn → vô số nghiệm (có biến tự do).  \n",
    "- Ngược lại nếu dòng khác 0 = số ẩn → có nghiệm duy nhất.  \n",
    "\n",
    "\n",
    "Bước 5. Giải nghiệm:\n",
    "- giả sử A là ma trận $n \\times m$\n",
    "- Duyệt từ dòng dưới cùng khác 0 lên.\n",
    "- Với mỗi dòng thứ i (tính từ 1) cột thứ j (tính từ 1) đầu tiên mà $A[i][j]$ khác 0,Khi đó nghiệm được tính bằng: \n",
    "$x_j = \\frac{A[i][m-1] - \\sum_{k=j+1}^{m-2} A[i][k] \\cdot x_k}{A[i][j]}$"
   ]
  },
  {
   "cell_type": "code",
   "execution_count": 26,
   "id": "4b84206d",
   "metadata": {},
   "outputs": [],
   "source": [
    "\n",
    "import sympy as sp\n",
    "def back_substitution(A):\n",
    "    numRow = len(A)\n",
    "    numCol = len(A[0])\n",
    "\n",
    "    symbols = sp.symbols(f'x1:{numCol}')  #tao bien tu do khi phuong trinh VSN\n",
    "    X = list(symbols)\n",
    "\n",
    "    downMost = numRow - 1 #vi tri dong dau tien khac 0 tu duoi len\n",
    "    while downMost >= 0:\n",
    "        check = True\n",
    "        for j in range(numCol):\n",
    "            if A[downMost][j] != 0:\n",
    "                check = False\n",
    "                break\n",
    "        if check == False:\n",
    "            break\n",
    "        else:\n",
    "            downMost -= 1\n",
    "        \n",
    "    #TH1: Vo nghiem\n",
    "    check = True\n",
    "    for j in range(numCol - 1):\n",
    "        if A[downMost][j] != 0:\n",
    "            check = False\n",
    "            break\n",
    "    if check == True and A[downMost][numCol - 1] != 0:\n",
    "        #print(\"Phuong trinh vo nghiem!\")\n",
    "        return \"Phuong trinh vo nghiem!\"\n",
    "\n",
    "    #TH2: Vo so nghiem va co nghiem duy nhat\n",
    "    if (downMost + 1) < (numCol - 1):\n",
    "        print(\"Phuong trinh co vo so nghiem:\")\n",
    "    else:\n",
    "        print(\"Phuong trinh co nghiem duy nhat:\")\n",
    "    while downMost >= 0:\n",
    "        for j in range(numCol - 1):\n",
    "            if A[downMost][j] != 0:\n",
    "                leftSum = 0\n",
    "                for k in range(j + 1, numCol - 1):\n",
    "                    leftSum += X[k]*A[downMost][k]\n",
    "                X[j] = (A[downMost][numCol - 1] - leftSum) / A[downMost][j]\n",
    "                break\n",
    "        downMost -= 1\n",
    "    return sp.Matrix(X)\n",
    "\n",
    "\n"
   ]
  },
  {
   "cell_type": "markdown",
   "id": "d66bb3a3",
   "metadata": {},
   "source": [
    "# Ví dụ cho các trường hợp:"
   ]
  },
  {
   "cell_type": "markdown",
   "id": "8545d3f8",
   "metadata": {},
   "source": [
    "## Trường hợp 1: Vô nghiệm"
   ]
  },
  {
   "cell_type": "code",
   "execution_count": 27,
   "id": "2d50518c",
   "metadata": {},
   "outputs": [
    {
     "name": "stdout",
     "output_type": "stream",
     "text": [
      "Ma tran mo rong sau khi rut gon:\n",
      " A = \n"
     ]
    },
    {
     "data": {
      "text/latex": [
       "$\\displaystyle \\left[\\begin{matrix}1.0 & -2.0 & -0.5 & 0.5\\\\0.0 & 1.0 & -1.5 & -0.5\\\\0.0 & 0.0 & 0.0 & 1.0\\end{matrix}\\right]$"
      ],
      "text/plain": [
       "Matrix([\n",
       "[1.0, -2.0, -0.5,  0.5],\n",
       "[0.0,  1.0, -1.5, -0.5],\n",
       "[0.0,  0.0,  0.0,  1.0]])"
      ]
     },
     "execution_count": 27,
     "metadata": {},
     "output_type": "execute_result"
    }
   ],
   "source": [
    "A = [\n",
    "    [2, -4, -1, 1],\n",
    "    [1, -3, 1, 1],\n",
    "    [3, -5, -3, 2]\n",
    "]\n",
    "\n",
    "start = time.time()\n",
    "Gauss_elimination(A)\n",
    "X = back_substitution(A)\n",
    "end = time.time()\n",
    "print('Ma tran mo rong sau khi rut gon:\\n A = ')\n",
    "sp.Matrix(A)\n"
   ]
  },
  {
   "cell_type": "code",
   "execution_count": 28,
   "id": "51af91a4",
   "metadata": {},
   "outputs": [
    {
     "name": "stdout",
     "output_type": "stream",
     "text": [
      "Thoi gian giai he phuong trinh: 0.000000\n"
     ]
    },
    {
     "data": {
      "text/plain": [
       "'Phuong trinh vo nghiem!'"
      ]
     },
     "execution_count": 28,
     "metadata": {},
     "output_type": "execute_result"
    }
   ],
   "source": [
    "total_time = end-start\n",
    "print(f\"Thoi gian giai he phuong trinh: {total_time:.6f}\")\n",
    "X\n"
   ]
  },
  {
   "cell_type": "markdown",
   "id": "dcae01f1",
   "metadata": {},
   "source": [
    "## Trường hợp 2: Vô số nghiệm"
   ]
  },
  {
   "cell_type": "code",
   "execution_count": 29,
   "id": "22ac2eec",
   "metadata": {},
   "outputs": [
    {
     "name": "stdout",
     "output_type": "stream",
     "text": [
      "Phuong trinh co vo so nghiem:\n",
      "Ma tran mo rong sau khi rut gon:\n",
      " A = \n"
     ]
    },
    {
     "data": {
      "text/latex": [
       "$\\displaystyle \\left[\\begin{matrix}1.0 & -1.0 & 1.0 & -3.0 & 0.0\\\\0.0 & 1.0 & 2.0 & 4.0 & 0.0\\end{matrix}\\right]$"
      ],
      "text/plain": [
       "Matrix([\n",
       "[1.0, -1.0, 1.0, -3.0, 0.0],\n",
       "[0.0,  1.0, 2.0,  4.0, 0.0]])"
      ]
     },
     "execution_count": 29,
     "metadata": {},
     "output_type": "execute_result"
    }
   ],
   "source": [
    "A = [\n",
    "    [1, -1, 1, -3, 0],\n",
    "    [2, -1, 4, -2, 0],\n",
    "]\n",
    "\n",
    "start = time.time()\n",
    "Gauss_elimination(A)\n",
    "X = back_substitution(A)\n",
    "end = time.time()\n",
    "print('Ma tran mo rong sau khi rut gon:\\n A = ')\n",
    "sp.Matrix(A)\n"
   ]
  },
  {
   "cell_type": "code",
   "execution_count": 30,
   "id": "17875d26",
   "metadata": {},
   "outputs": [
    {
     "name": "stdout",
     "output_type": "stream",
     "text": [
      "Thoi gian giai he phuong trinh: 0.001441\n",
      "X = \n"
     ]
    },
    {
     "data": {
      "text/latex": [
       "$\\displaystyle \\left[\\begin{matrix}- 3.0 x_{3} - 1.0 x_{4}\\\\- 2.0 x_{3} - 4.0 x_{4}\\\\x_{3}\\\\x_{4}\\end{matrix}\\right]$"
      ],
      "text/plain": [
       "Matrix([\n",
       "[-3.0*x3 - 1.0*x4],\n",
       "[-2.0*x3 - 4.0*x4],\n",
       "[              x3],\n",
       "[              x4]])"
      ]
     },
     "execution_count": 30,
     "metadata": {},
     "output_type": "execute_result"
    }
   ],
   "source": [
    "total_time = end-start\n",
    "print(f\"Thoi gian giai he phuong trinh: {total_time:.6f}\")\n",
    "print('X = ')\n",
    "X\n"
   ]
  },
  {
   "cell_type": "markdown",
   "id": "172f6c46",
   "metadata": {},
   "source": [
    "## Trường hợp 3: Có nghiệm duy nhất"
   ]
  },
  {
   "cell_type": "code",
   "execution_count": 31,
   "id": "a23677fa",
   "metadata": {},
   "outputs": [
    {
     "name": "stdout",
     "output_type": "stream",
     "text": [
      "Phuong trinh co nghiem duy nhat:\n",
      "Ma tran mo rong sau khi rut gon:\n",
      " A = \n"
     ]
    },
    {
     "data": {
      "text/latex": [
       "$\\displaystyle \\left[\\begin{matrix}1.0 & -2.0 & 3.0 & -3.0\\\\0.0 & 1.0 & -1.0 & 1.0\\\\0.0 & 0.0 & 1.0 & 4.0\\\\0.0 & 0.0 & 0.0 & 0.0\\end{matrix}\\right]$"
      ],
      "text/plain": [
       "Matrix([\n",
       "[1.0, -2.0,  3.0, -3.0],\n",
       "[0.0,  1.0, -1.0,  1.0],\n",
       "[0.0,  0.0,  1.0,  4.0],\n",
       "[0.0,  0.0,  0.0,  0.0]])"
      ]
     },
     "execution_count": 31,
     "metadata": {},
     "output_type": "execute_result"
    }
   ],
   "source": [
    "A = [\n",
    "    [1, -2, 3, -3],\n",
    "    [2, 2, 0, 0],\n",
    "    [0, -3, 4, 1],\n",
    "    [1, 0, 1, -1]\n",
    "]\n",
    "\n",
    "start = time.time()\n",
    "Gauss_elimination(A)\n",
    "X = back_substitution(A)\n",
    "end = time.time()\n",
    "print('Ma tran mo rong sau khi rut gon:\\n A = ')\n",
    "sp.Matrix(A)\n"
   ]
  },
  {
   "cell_type": "code",
   "execution_count": 32,
   "id": "36ec4d3c",
   "metadata": {},
   "outputs": [
    {
     "name": "stdout",
     "output_type": "stream",
     "text": [
      "Thoi gian giai he phuong trinh: 0.000506\n",
      "X = \n"
     ]
    },
    {
     "data": {
      "text/latex": [
       "$\\displaystyle \\left[\\begin{matrix}-5.0\\\\5.0\\\\4.0\\end{matrix}\\right]$"
      ],
      "text/plain": [
       "Matrix([\n",
       "[-5.0],\n",
       "[ 5.0],\n",
       "[ 4.0]])"
      ]
     },
     "execution_count": 32,
     "metadata": {},
     "output_type": "execute_result"
    }
   ],
   "source": [
    "total_time = end-start\n",
    "print(f\"Thoi gian giai he phuong trinh: {total_time:.6f}\")\n",
    "print('X = ')\n",
    "X"
   ]
  },
  {
   "cell_type": "markdown",
   "id": "7978ade0",
   "metadata": {},
   "source": [
    "# Sử dụng linsovler() của \n",
    "\n",
    "`linsolve()` là hàm trong thư viện **SymPy** dùng để **giải hệ phương trình tuyến tính** dưới dạng ký hiệu (symbolic).\n",
    "\n",
    "Input:\n",
    "- Ma trận hệ số \\( A \\) và vector kết quả \\( b \\)\n",
    "- Hoặc dạng tổ hợp \\((A, b)\\)\n",
    "\n",
    "Output: \n",
    "- **Tập nghiệm** (solution set) của hệ phương trình, có thể là nghiệm duy nhất, nghiệm vô số hoặc không có nghiệm."
   ]
  },
  {
   "cell_type": "code",
   "execution_count": 33,
   "id": "bcf374ed",
   "metadata": {},
   "outputs": [],
   "source": [
    "def solve_augmented_matrix(Aug):\n",
    "    Aug = sp.Matrix(Aug)\n",
    "    A = Aug[:, :-1]  # ma trận hệ số\n",
    "    b = Aug[:, -1]   # véctơ kết quả\n",
    "    n = A.shape[1]\n",
    "    x = sp.symbols(f'x1:{n+1}')\n",
    "\n",
    "    start = time.time()\n",
    "    sol = sp.linsolve((A, b), x)\n",
    "    end = time.time()\n",
    "    print(f\"Thoi gian giai he phuong trinh: {(end - start):6f}\")  \n",
    "    \n",
    "    if not sol:\n",
    "        return \"He phuong trinh vo nghiem.\"\n",
    "    elif len(sol.free_symbols) == 0:\n",
    "        sol_tuple = list(sol)[0] \n",
    "        sol_list = list(sol_tuple)\n",
    "        print(\"He phuong trinh co nghiem duy nhat:\")\n",
    "        return sp.Matrix(sol_list)\n",
    "    else:\n",
    "        sol_tuple = list(sol)[0] \n",
    "        sol_list = list(sol_tuple)\n",
    "        print(\"He phuong trinh co vo so nghiem:\")\n",
    "        return sp.Matrix(sol_list)"
   ]
  },
  {
   "cell_type": "markdown",
   "id": "5a46c03b",
   "metadata": {},
   "source": [
    "# Trường hợp 1: Vô nghiệm"
   ]
  },
  {
   "cell_type": "code",
   "execution_count": 34,
   "id": "1cfd83c5",
   "metadata": {},
   "outputs": [
    {
     "name": "stdout",
     "output_type": "stream",
     "text": [
      "Thoi gian giai he phuong trinh: 0.000000\n"
     ]
    },
    {
     "data": {
      "text/plain": [
       "'He phuong trinh vo nghiem.'"
      ]
     },
     "execution_count": 34,
     "metadata": {},
     "output_type": "execute_result"
    }
   ],
   "source": [
    "A = [\n",
    "    [2, -4, -1, 1],\n",
    "    [1, -3, 1, 1],\n",
    "    [3, -5, -3, 2]\n",
    "]\n",
    "\n",
    "X = solve_augmented_matrix(A)\n",
    "X"
   ]
  },
  {
   "cell_type": "markdown",
   "id": "8bfdad86",
   "metadata": {},
   "source": [
    "# Trường hợp 2: Vô số nghiệm"
   ]
  },
  {
   "cell_type": "code",
   "execution_count": 35,
   "id": "37c25e36",
   "metadata": {},
   "outputs": [
    {
     "name": "stdout",
     "output_type": "stream",
     "text": [
      "Thoi gian giai he phuong trinh: 0.000999\n",
      "He phuong trinh co vo so nghiem:\n",
      "X = \n"
     ]
    },
    {
     "data": {
      "text/latex": [
       "$\\displaystyle \\left[\\begin{matrix}- 3 x_{3} - x_{4}\\\\- 2 x_{3} - 4 x_{4}\\\\x_{3}\\\\x_{4}\\end{matrix}\\right]$"
      ],
      "text/plain": [
       "Matrix([\n",
       "[  -3*x3 - x4],\n",
       "[-2*x3 - 4*x4],\n",
       "[          x3],\n",
       "[          x4]])"
      ]
     },
     "execution_count": 35,
     "metadata": {},
     "output_type": "execute_result"
    }
   ],
   "source": [
    "A = [\n",
    "    [1, -1, 1, -3, 0],\n",
    "    [2, -1, 4, -2, 0],\n",
    "]\n",
    "X = solve_augmented_matrix(A)\n",
    "print('X = ')\n",
    "X"
   ]
  },
  {
   "cell_type": "markdown",
   "id": "85325eaf",
   "metadata": {},
   "source": [
    "# Trường hợp 3: Có nghiệm duy nhất"
   ]
  },
  {
   "cell_type": "code",
   "execution_count": 36,
   "id": "a5ccd2f1",
   "metadata": {},
   "outputs": [
    {
     "name": "stdout",
     "output_type": "stream",
     "text": [
      "Thoi gian giai he phuong trinh: 0.000998\n",
      "He phuong trinh co nghiem duy nhat:\n",
      "X = \n"
     ]
    },
    {
     "data": {
      "text/latex": [
       "$\\displaystyle \\left[\\begin{matrix}-5\\\\5\\\\4\\end{matrix}\\right]$"
      ],
      "text/plain": [
       "Matrix([\n",
       "[-5],\n",
       "[ 5],\n",
       "[ 4]])"
      ]
     },
     "execution_count": 36,
     "metadata": {},
     "output_type": "execute_result"
    }
   ],
   "source": [
    "A = [\n",
    "    [1, -2, 3, -3],\n",
    "    [2, 2, 0, 0],\n",
    "    [0, -3, 4, 1],\n",
    "    [1, 0, 1, -1]\n",
    "]\n",
    "X = solve_augmented_matrix(A)\n",
    "print('X = ')\n",
    "X"
   ]
  },
  {
   "cell_type": "markdown",
   "id": "0eec35f8",
   "metadata": {},
   "source": [
    "\n",
    "# 📊 Bảng So Sánh: `Gauss_elimination() và  back_substitution()` vs `sympy.linsolve`\n",
    "\n",
    "| **Tiêu chí**         | **Gauss_elimination() và  back_substitution() (Tự cài)**                                                                 | **`sympy.linsolve` (SymPy)**                                                             |\n",
    "|------------------------|---------------------------------------------------------------------------------------------------|---------------------------------------------------------------------------------------------|\n",
    "|  **Thời gian xử lý**     | Chậm, đặc biệt với hệ lớn; thuật toán thủ công không tối ưu.                                    | Tối ưu tốt với hệ vừa và nhỏ; dùng giải thuật đại số hiệu quả.                            |\n",
    "| **Độ chính xác**         | Phụ thuộc vào kiểu dữ liệu (*float* dễ sai số); khó xử lý số vô tỉ, căn.             | Chính xác tuyệt đối (*symbolic*); không bị trôi số hay sai số làm tròn.                   |\n",
    "| **Khả năng xử lý**            | Kém, do không dùng thư viện tính toán hiệu suất cao (*NumPy*, *BLAS*,...)                   | Cao hơn nhiều, phù hợp cho *symbolic computation* và hệ vừa phải.                        |\n",
    "| **Quy mô hoạt động**     | Phù hợp hệ nhỏ hoặc vừa; dễ bị lỗi và khó kiểm soát khi số phương trình hoặc ẩn tăng cao.     | Tốt cho hệ vừa; nhưng không mạnh bằng *NumPy/SciPy* khi giải hệ số lượng rất lớn.       |\n",
    "| **Mục tiêu phù hợp**     | Học tập, giảng dạy.                              | Ứng dụng thực tế, giải toán biểu thức, kiểm chứng nghiệm.   |\n"
   ]
  }
 ],
 "metadata": {
  "kernelspec": {
   "display_name": "Python 3",
   "language": "python",
   "name": "python3"
  },
  "language_info": {
   "codemirror_mode": {
    "name": "ipython",
    "version": 3
   },
   "file_extension": ".py",
   "mimetype": "text/x-python",
   "name": "python",
   "nbconvert_exporter": "python",
   "pygments_lexer": "ipython3",
   "version": "3.12.4"
  }
 },
 "nbformat": 4,
 "nbformat_minor": 5
}
